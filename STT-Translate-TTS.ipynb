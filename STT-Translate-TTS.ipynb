{
 "cells": [
  {
   "cell_type": "markdown",
   "metadata": {},
   "source": [
    "# Vérifier et préparer votre environnement de projet"
   ]
  },
  {
   "cell_type": "markdown",
   "metadata": {},
   "source": [
    "## Vérifier votre environnement"
   ]
  },
  {
   "cell_type": "code",
   "execution_count": 1,
   "metadata": {},
   "outputs": [
    {
     "name": "stdout",
     "output_type": "stream",
     "text": [
      "pascalr@google.com\n"
     ]
    }
   ],
   "source": [
    "!gcloud config get-value core/account"
   ]
  },
  {
   "cell_type": "code",
   "execution_count": 2,
   "metadata": {},
   "outputs": [
    {
     "name": "stdout",
     "output_type": "stream",
     "text": [
      "pascal-demo\n"
     ]
    }
   ],
   "source": [
    "!gcloud config get-value core/project"
   ]
  },
  {
   "cell_type": "markdown",
   "metadata": {},
   "source": [
    "## Vérifier que les APIs sont activées"
   ]
  },
  {
   "cell_type": "code",
   "execution_count": 3,
   "metadata": {},
   "outputs": [
    {
     "name": "stdout",
     "output_type": "stream",
     "text": [
      "NAME                         TITLE\n",
      "speech.googleapis.com        Cloud Speech-to-Text API\n",
      "texttospeech.googleapis.com  Cloud Text-to-Speech API\n"
     ]
    }
   ],
   "source": [
    "!gcloud services list --enabled --filter speech"
   ]
  },
  {
   "cell_type": "markdown",
   "metadata": {},
   "source": [
    "## Vérifier que les API Speech-to-Text et Text-to-Speech sont bien activées"
   ]
  },
  {
   "cell_type": "code",
   "execution_count": 4,
   "metadata": {},
   "outputs": [
    {
     "name": "stdout",
     "output_type": "stream",
     "text": [
      "NAME                         TITLE\n",
      "speech.googleapis.com        Cloud Speech-to-Text API\n",
      "texttospeech.googleapis.com  Cloud Text-to-Speech API\n"
     ]
    }
   ],
   "source": [
    "!gcloud services list --enabled --filter=speech"
   ]
  },
  {
   "cell_type": "markdown",
   "metadata": {},
   "source": [
    "## Vérifier que l'API Translation est bien activée"
   ]
  },
  {
   "cell_type": "code",
   "execution_count": 5,
   "metadata": {},
   "outputs": [
    {
     "name": "stdout",
     "output_type": "stream",
     "text": [
      "NAME                      TITLE\n",
      "automl.googleapis.com     Cloud AutoML API\n",
      "translate.googleapis.com  Cloud Translation API\n"
     ]
    }
   ],
   "source": [
    "!gcloud services list --enabled --filter=translate"
   ]
  },
  {
   "cell_type": "markdown",
   "metadata": {},
   "source": [
    "## Activer les APIs éventuellement non activées\n",
    "Si certaines APIs ne sont pas encore activées, retournez sur l'interface web de la console GCP, cliquez sur __Navigation Menu__ (icône dite \"Burger menu\") > __APIs & Services__ > __Library__.\n",
    "\n",
    "Cherchez la ou les API(s) non encore activées et cliquez sur __Enable__."
   ]
  },
  {
   "cell_type": "markdown",
   "metadata": {},
   "source": [
    "## Déclarer votre clé d'API\n",
    "Retrouvez la valuer de votre clé d'API :\n",
    "- depuis l'interface graphique de la console GCP :\n",
    "cliquez sur __Navigation Menu__ (icône dite \"Burger menu\") > __APIs & Services__ > __Credentials__\n",
    "\n",
    "- depuis le fichier dans lequel vous l'avez enregistrée :\n",
    "Dans __Cloud Shell__ tapez la commende :\n",
    "\n",
    "```cat My-API-key.txt```\n",
    "\n",
    "Puis copiez-collez la valeur ci-dessous :"
   ]
  },
  {
   "cell_type": "code",
   "execution_count": null,
   "metadata": {},
   "outputs": [],
   "source": [
    "%env API_KEY <valeur>"
   ]
  },
  {
   "cell_type": "code",
   "execution_count": 3,
   "metadata": {},
   "outputs": [
    {
     "name": "stdout",
     "output_type": "stream",
     "text": [
      "env: GOOGLE_CLOUD_PROJECT=pascal-demo\n"
     ]
    }
   ],
   "source": [
    "PROJECT = !gcloud config get-value core/project\n",
    "%env GOOGLE_CLOUD_PROJECT {PROJECT[0]}"
   ]
  },
  {
   "cell_type": "code",
   "execution_count": null,
   "metadata": {},
   "outputs": [],
   "source": []
  },
  {
   "cell_type": "code",
   "execution_count": null,
   "metadata": {},
   "outputs": [],
   "source": [
    "!echo $GOOGLE_CLOUD_PROJECT"
   ]
  },
  {
   "cell_type": "markdown",
   "metadata": {},
   "source": [
    "# Transcrire un fichier audio vocal vers du texte avec Speech-to-Text API"
   ]
  },
  {
   "cell_type": "markdown",
   "metadata": {},
   "source": [
    "## Créer un service account et télécharger la clé"
   ]
  },
  {
   "cell_type": "code",
   "execution_count": 5,
   "metadata": {},
   "outputs": [
    {
     "name": "stdout",
     "output_type": "stream",
     "text": [
      "Created service account [my-lab-sa].\n"
     ]
    }
   ],
   "source": [
    "!gcloud iam service-accounts create my-lab-sa --display-name \"my lab service account\""
   ]
  },
  {
   "cell_type": "code",
   "execution_count": 7,
   "metadata": {},
   "outputs": [
    {
     "name": "stdout",
     "output_type": "stream",
     "text": [
      "created key [1fb39498cbfd0cca2662a6460a31a1509a776f78] of type [json] as [/home/jupyter/key.json] for [my-lab-sa@pascal-demo.iam.gserviceaccount.com]\n"
     ]
    }
   ],
   "source": [
    "!gcloud iam service-accounts keys create ~/key.json --iam-account my-lab-sa@${GOOGLE_CLOUD_PROJECT}.iam.gserviceaccount.com"
   ]
  },
  {
   "cell_type": "code",
   "execution_count": 8,
   "metadata": {},
   "outputs": [
    {
     "name": "stdout",
     "output_type": "stream",
     "text": [
      "env: GOOGLE_APPLICATION_CREDENTIALS=\"/home/jupyter/key.json\"\n"
     ]
    }
   ],
   "source": [
    "%env GOOGLE_APPLICATION_CREDENTIALS=\"/home/jupyter/key.json\""
   ]
  },
  {
   "cell_type": "markdown",
   "metadata": {},
   "source": [
    "## Utiliser la librairie client Python \n",
    "\n",
    "Vous allez lancer la transcription d'un [autre fichier sonore vocal](https://storage.googleapis.com/speech-language-samples/fr-sample.flac) (cliquez sur le lien pour l'écouter).\n",
    "\n",
    "Vous allez lancer la transcription d'un [autre fichier sonore vocal](https://storage.googleapis.com/ml-api-codelab/tr-ostrich.wav) (cliquez sur le lien pour l'écouter).\n",
    "\n",
    "\n",
    "### Vérifier d'abord que le module google-cloud-speech est bien installé :"
   ]
  },
  {
   "cell_type": "code",
   "execution_count": 10,
   "metadata": {},
   "outputs": [
    {
     "name": "stdout",
     "output_type": "stream",
     "text": [
      "google-cloud-speech==1.3.2\n",
      "\"/home/jupyter/key.json\"\n"
     ]
    }
   ],
   "source": [
    "!pip freeze | grep speech\n",
    "!echo $GOOGLE_APPLICATION_CREDENTIALS"
   ]
  },
  {
   "cell_type": "markdown",
   "metadata": {},
   "source": [
    "### Ensuite, préparer l'appel à l'API via le client Python :"
   ]
  },
  {
   "cell_type": "code",
   "execution_count": 39,
   "metadata": {},
   "outputs": [],
   "source": [
    "from google.cloud import speech\n",
    "\n",
    "#creds = service_account.Credentials.from_service_account_file(\"/home/jupyter/key.json\") \n",
    "client = speech.SpeechClient.from_service_account_json('/home/jupyter/key.json')\n",
    "\n",
    "#gcs_uri = \"gs://speech-language-samples/fr-sample.flac\"\n",
    "gcs_uri = \"gs://ml-api-codelab/tr-ostrich.wav\"\n",
    "\n",
    "audio = speech.types.RecognitionAudio(uri=gcs_uri)\n",
    "config = speech.types.RecognitionConfig(\n",
    "    #encoding=speech.types.RecognitionConfig.AudioEncoding.FLAC,\n",
    "    #sample_rate_hertz=44100,\n",
    "    #language_code=\"fr\",\n",
    "    language_code=\"tr-TR\"\n",
    ")"
   ]
  },
  {
   "cell_type": "markdown",
   "metadata": {},
   "source": [
    "### Lancer l'opération en mode synchrone et afficher la meilleure réponse :"
   ]
  },
  {
   "cell_type": "code",
   "execution_count": 40,
   "metadata": {},
   "outputs": [
    {
     "name": "stdout",
     "output_type": "stream",
     "text": [
      "Transcript: çok fazla deve kuşu var\n",
      "Confidence: 0.9382978081703186\n"
     ]
    }
   ],
   "source": [
    "response = client.recognize(config=config, audio=audio)\n",
    "for result in response.results:\n",
    "    # The first alternative is the most likely one for this portion.\n",
    "    print(u\"Transcript: {}\".format(result.alternatives[0].transcript))\n",
    "    print(\"Confidence: {}\".format(result.alternatives[0].confidence))"
   ]
  },
  {
   "cell_type": "markdown",
   "metadata": {},
   "source": [
    "### Lancer l'opération en mode asyncrhone et afficher la meilleure réponse :"
   ]
  },
  {
   "cell_type": "code",
   "execution_count": 29,
   "metadata": {},
   "outputs": [
    {
     "name": "stdout",
     "output_type": "stream",
     "text": [
      "Waiting for operation to complete...\n"
     ]
    }
   ],
   "source": [
    "operation = client.long_running_recognize(\n",
    "    config=config, audio=audio\n",
    ")\n",
    "print(\"Waiting for operation to complete...\")\n",
    "response = operation.result(timeout=90)"
   ]
  },
  {
   "cell_type": "code",
   "execution_count": 30,
   "metadata": {},
   "outputs": [
    {
     "name": "stdout",
     "output_type": "stream",
     "text": [
      "Transcript: maître corbeau sur un arbre perché tenait en son bec un fromage\n",
      "Confidence: 0.9385557770729065\n"
     ]
    }
   ],
   "source": [
    "for result in response.results:\n",
    "    # The first alternative is the most likely one for this portion.\n",
    "    print(u\"Transcript: {}\".format(result.alternatives[0].transcript))\n",
    "    print(\"Confidence: {}\".format(result.alternatives[0].confidence))"
   ]
  },
  {
   "cell_type": "markdown",
   "metadata": {},
   "source": [
    "# Traduire du texte avec Translation API"
   ]
  },
  {
   "cell_type": "markdown",
   "metadata": {},
   "source": [
    "## Stocker le texte précédent dans une variable"
   ]
  },
  {
   "cell_type": "code",
   "execution_count": 47,
   "metadata": {},
   "outputs": [],
   "source": [
    "text = response.results[0].alternatives[0].transcript"
   ]
  },
  {
   "cell_type": "markdown",
   "metadata": {},
   "source": [
    "## Initialiser le client de l'API Translation"
   ]
  },
  {
   "cell_type": "code",
   "execution_count": 48,
   "metadata": {},
   "outputs": [],
   "source": [
    "from google.cloud import translate_v2 as translate\n",
    "\n",
    "translate_client = translate.Client.from_service_account_json('/home/jupyter/key.json')"
   ]
  },
  {
   "cell_type": "markdown",
   "metadata": {},
   "source": [
    "## Préparer la requête / spécifier la langue cible"
   ]
  },
  {
   "cell_type": "code",
   "execution_count": 55,
   "metadata": {},
   "outputs": [],
   "source": [
    "\"\"\"Translates text into the target language.\n",
    "\n",
    "Target must be an ISO 639-1 language code.\n",
    "See https://cloud.google.com/translate/docs/reference/rest/v3/SupportedLanguages\n",
    "\"\"\"\n",
    "target = \"fr\""
   ]
  },
  {
   "cell_type": "markdown",
   "metadata": {},
   "source": [
    "## Exécuter l'appel API"
   ]
  },
  {
   "cell_type": "code",
   "execution_count": 56,
   "metadata": {},
   "outputs": [],
   "source": [
    "# Text can also be a sequence of strings, in which case this method\n",
    "# will return a sequence of results for each text.\n",
    "result = translate_client.translate(text, target_language=target)"
   ]
  },
  {
   "cell_type": "markdown",
   "metadata": {},
   "source": [
    "## Afficher le résultat"
   ]
  },
  {
   "cell_type": "code",
   "execution_count": 57,
   "metadata": {},
   "outputs": [
    {
     "name": "stdout",
     "output_type": "stream",
     "text": [
      "Text: çok fazla deve kuşu var\n",
      "Translation: il y a trop d&#39;autruches\n",
      "Detected source language: tr\n"
     ]
    }
   ],
   "source": [
    "print(u\"Text: {}\".format(result[\"input\"]))\n",
    "print(u\"Translation: {}\".format(result[\"translatedText\"]))\n",
    "print(u\"Detected source language: {}\".format(result[\"detectedSourceLanguage\"]))"
   ]
  },
  {
   "cell_type": "markdown",
   "metadata": {},
   "source": [
    "# Synthèse vocale avec Text-to-Speec API"
   ]
  },
  {
   "cell_type": "markdown",
   "metadata": {},
   "source": [
    "## Préparer l'environnement Python"
   ]
  },
  {
   "cell_type": "code",
   "execution_count": 58,
   "metadata": {},
   "outputs": [
    {
     "name": "stdout",
     "output_type": "stream",
     "text": [
      "Collecting google-cloud-texttospeech\n",
      "  Downloading google_cloud_texttospeech-2.2.0-py2.py3-none-any.whl (57 kB)\n",
      "\u001b[K     |████████████████████████████████| 57 kB 3.2 MB/s eta 0:00:011\n",
      "\u001b[?25hRequirement already satisfied, skipping upgrade: google-api-core[grpc]<2.0.0dev,>=1.22.0 in /opt/conda/lib/python3.7/site-packages (from google-cloud-texttospeech) (1.22.2)\n",
      "Collecting proto-plus>=1.4.0\n",
      "  Downloading proto-plus-1.10.0.tar.gz (24 kB)\n",
      "Collecting libcst>=0.2.5\n",
      "  Downloading libcst-0.3.12-py3-none-any.whl (501 kB)\n",
      "\u001b[K     |████████████████████████████████| 501 kB 7.3 MB/s eta 0:00:01\n",
      "\u001b[?25hRequirement already satisfied, skipping upgrade: protobuf>=3.12.0 in /opt/conda/lib/python3.7/site-packages (from google-api-core[grpc]<2.0.0dev,>=1.22.0->google-cloud-texttospeech) (3.12.4)\n",
      "Requirement already satisfied, skipping upgrade: setuptools>=34.0.0 in /opt/conda/lib/python3.7/site-packages (from google-api-core[grpc]<2.0.0dev,>=1.22.0->google-cloud-texttospeech) (49.6.0.post20200814)\n",
      "Requirement already satisfied, skipping upgrade: six>=1.10.0 in /opt/conda/lib/python3.7/site-packages (from google-api-core[grpc]<2.0.0dev,>=1.22.0->google-cloud-texttospeech) (1.15.0)\n",
      "Requirement already satisfied, skipping upgrade: pytz in /opt/conda/lib/python3.7/site-packages (from google-api-core[grpc]<2.0.0dev,>=1.22.0->google-cloud-texttospeech) (2020.1)\n",
      "Requirement already satisfied, skipping upgrade: googleapis-common-protos<2.0dev,>=1.6.0 in /opt/conda/lib/python3.7/site-packages (from google-api-core[grpc]<2.0.0dev,>=1.22.0->google-cloud-texttospeech) (1.51.0)\n",
      "Requirement already satisfied, skipping upgrade: google-auth<2.0dev,>=1.21.1 in /opt/conda/lib/python3.7/site-packages (from google-api-core[grpc]<2.0.0dev,>=1.22.0->google-cloud-texttospeech) (1.21.1)\n",
      "Requirement already satisfied, skipping upgrade: requests<3.0.0dev,>=2.18.0 in /opt/conda/lib/python3.7/site-packages (from google-api-core[grpc]<2.0.0dev,>=1.22.0->google-cloud-texttospeech) (2.24.0)\n",
      "Requirement already satisfied, skipping upgrade: grpcio<2.0dev,>=1.29.0; extra == \"grpc\" in /opt/conda/lib/python3.7/site-packages (from google-api-core[grpc]<2.0.0dev,>=1.22.0->google-cloud-texttospeech) (1.31.0)\n",
      "Requirement already satisfied, skipping upgrade: pyyaml>=5.2 in /opt/conda/lib/python3.7/site-packages (from libcst>=0.2.5->google-cloud-texttospeech) (5.3.1)\n",
      "Requirement already satisfied, skipping upgrade: typing-extensions>=3.7.4.2 in /opt/conda/lib/python3.7/site-packages (from libcst>=0.2.5->google-cloud-texttospeech) (3.7.4.2)\n",
      "Collecting typing-inspect>=0.4.0\n",
      "  Downloading typing_inspect-0.6.0-py3-none-any.whl (8.1 kB)\n",
      "Requirement already satisfied, skipping upgrade: cachetools<5.0,>=2.0.0 in /opt/conda/lib/python3.7/site-packages (from google-auth<2.0dev,>=1.21.1->google-api-core[grpc]<2.0.0dev,>=1.22.0->google-cloud-texttospeech) (4.1.1)\n",
      "Requirement already satisfied, skipping upgrade: pyasn1-modules>=0.2.1 in /opt/conda/lib/python3.7/site-packages (from google-auth<2.0dev,>=1.21.1->google-api-core[grpc]<2.0.0dev,>=1.22.0->google-cloud-texttospeech) (0.2.7)\n",
      "Requirement already satisfied, skipping upgrade: rsa<5,>=3.1.4; python_version >= \"3.5\" in /opt/conda/lib/python3.7/site-packages (from google-auth<2.0dev,>=1.21.1->google-api-core[grpc]<2.0.0dev,>=1.22.0->google-cloud-texttospeech) (4.6)\n",
      "Requirement already satisfied, skipping upgrade: chardet<4,>=3.0.2 in /opt/conda/lib/python3.7/site-packages (from requests<3.0.0dev,>=2.18.0->google-api-core[grpc]<2.0.0dev,>=1.22.0->google-cloud-texttospeech) (3.0.4)\n",
      "Requirement already satisfied, skipping upgrade: idna<3,>=2.5 in /opt/conda/lib/python3.7/site-packages (from requests<3.0.0dev,>=2.18.0->google-api-core[grpc]<2.0.0dev,>=1.22.0->google-cloud-texttospeech) (2.10)\n",
      "Requirement already satisfied, skipping upgrade: urllib3!=1.25.0,!=1.25.1,<1.26,>=1.21.1 in /opt/conda/lib/python3.7/site-packages (from requests<3.0.0dev,>=2.18.0->google-api-core[grpc]<2.0.0dev,>=1.22.0->google-cloud-texttospeech) (1.25.10)\n",
      "Requirement already satisfied, skipping upgrade: certifi>=2017.4.17 in /opt/conda/lib/python3.7/site-packages (from requests<3.0.0dev,>=2.18.0->google-api-core[grpc]<2.0.0dev,>=1.22.0->google-cloud-texttospeech) (2020.6.20)\n",
      "Requirement already satisfied, skipping upgrade: mypy-extensions>=0.3.0 in /opt/conda/lib/python3.7/site-packages (from typing-inspect>=0.4.0->libcst>=0.2.5->google-cloud-texttospeech) (0.4.3)\n",
      "Requirement already satisfied, skipping upgrade: pyasn1<0.5.0,>=0.4.6 in /opt/conda/lib/python3.7/site-packages (from pyasn1-modules>=0.2.1->google-auth<2.0dev,>=1.21.1->google-api-core[grpc]<2.0.0dev,>=1.22.0->google-cloud-texttospeech) (0.4.8)\n",
      "Building wheels for collected packages: proto-plus\n",
      "  Building wheel for proto-plus (setup.py) ... \u001b[?25ldone\n",
      "\u001b[?25h  Created wheel for proto-plus: filename=proto_plus-1.10.0-py3-none-any.whl size=36995 sha256=9a4c720b383fe27579eb63123d3ceec377b420c83b6520e204b2c68d2a56b818\n",
      "  Stored in directory: /home/jupyter/.cache/pip/wheels/11/33/fc/104a428f03e59037ac73931b71b719ba559c37a3683ec39391\n",
      "Successfully built proto-plus\n",
      "Installing collected packages: proto-plus, typing-inspect, libcst, google-cloud-texttospeech\n",
      "Successfully installed google-cloud-texttospeech-2.2.0 libcst-0.3.12 proto-plus-1.10.0 typing-inspect-0.6.0\n"
     ]
    }
   ],
   "source": [
    "!pip install --upgrade google-cloud-texttospeech"
   ]
  },
  {
   "cell_type": "markdown",
   "metadata": {},
   "source": [
    "## Initialiser le client Python"
   ]
  },
  {
   "cell_type": "code",
   "execution_count": 61,
   "metadata": {},
   "outputs": [],
   "source": [
    "from google.cloud import texttospeech\n",
    "\n",
    "tts_client = texttospeech.TextToSpeechClient.from_service_account_json('/home/jupyter/key.json')"
   ]
  },
  {
   "cell_type": "markdown",
   "metadata": {},
   "source": [
    "## Imprimer la liste des voix disponibles"
   ]
  },
  {
   "cell_type": "code",
   "execution_count": null,
   "metadata": {},
   "outputs": [],
   "source": [
    "voices = tts_client.list_voices()\n",
    "\n",
    "for voice in voices.voices:\n",
    "    # Display the voice's name. Example: tpc-vocoded\n",
    "    print(f\"Name: {voice.name}\")\n",
    "\n",
    "    # Display the supported language codes for this voice. Example: \"en-US\"\n",
    "    for language_code in voice.language_codes:\n",
    "        print(f\"Supported language: {language_code}\")\n",
    "\n",
    "    ssml_gender = texttospeech.SsmlVoiceGender(voice.ssml_gender)\n",
    "\n",
    "    # Display the SSML Voice Gender\n",
    "    print(f\"SSML Voice Gender: {ssml_gender.name}\")\n",
    "\n",
    "    # Display the natural sample rate hertz for this voice. Example: 24000\n",
    "    print(f\"Natural Sample Rate Hertz: {voice.natural_sample_rate_hertz}\\n\")"
   ]
  },
  {
   "cell_type": "markdown",
   "metadata": {},
   "source": [
    "## Stocker la requete dans un dictionnaire Python"
   ]
  },
  {
   "cell_type": "code",
   "execution_count": 63,
   "metadata": {},
   "outputs": [],
   "source": [
    "my_text = 'Cloud Text-to-Speech API allows developers to include natural-sounding, synthetic human speech as playable audio in their applications. The Text-to-Speech API converts text or Speech Synthesis Markup Language (SSML) input into audio data like MP3 or LINEAR16 (the encoding used in WAV files).'\n",
    "\n",
    "input = {\n",
    "    'input':{\n",
    "        'text':'Cloud Text-to-Speech API allows developers to include natural-sounding, synthetic human speech as playable audio in their applications. The Text-to-Speech API converts text or Speech Synthesis Markup Language (SSML) input into audio data like MP3 or LINEAR16 (the encoding used in WAV files).'\n",
    "    },\n",
    "    'voice':{\n",
    "        'languageCode':'en-gb',\n",
    "        'name':'en-GB-Standard-A',\n",
    "        'ssmlGender':'FEMALE'\n",
    "    },\n",
    "    'audioConfig':{\n",
    "        'audioEncoding':'MP3'\n",
    "    }\n",
    "}"
   ]
  },
  {
   "cell_type": "markdown",
   "metadata": {},
   "source": [
    "## Préparer, lancer et exécuter la requête"
   ]
  },
  {
   "cell_type": "code",
   "execution_count": 64,
   "metadata": {},
   "outputs": [],
   "source": [
    "input_text = texttospeech.SynthesisInput(text=my_text)\n",
    "\n",
    "voice = texttospeech.VoiceSelectionParams(\n",
    "    language_code=\"en-US\",\n",
    "    name=\"en-US-Standard-C\",\n",
    "    ssml_gender=texttospeech.SsmlVoiceGender.FEMALE,\n",
    ")\n",
    "\n",
    "audio_config = texttospeech.AudioConfig(\n",
    "    audio_encoding=texttospeech.AudioEncoding.MP3\n",
    ")\n",
    "\n",
    "response = client.synthesize_speech(\n",
    "    request={\"input\": input_text, \"voice\": voice, \"audio_config\": audio_config}\n",
    ")\n",
    "\n"
   ]
  }
 ],
 "metadata": {
  "environment": {
   "name": "common-cpu.m56",
   "type": "gcloud",
   "uri": "gcr.io/deeplearning-platform-release/base-cpu:m56"
  },
  "kernelspec": {
   "display_name": "Python 3",
   "language": "python",
   "name": "python3"
  },
  "language_info": {
   "codemirror_mode": {
    "name": "ipython",
    "version": 3
   },
   "file_extension": ".py",
   "mimetype": "text/x-python",
   "name": "python",
   "nbconvert_exporter": "python",
   "pygments_lexer": "ipython3",
   "version": "3.7.8"
  }
 },
 "nbformat": 4,
 "nbformat_minor": 4
}
