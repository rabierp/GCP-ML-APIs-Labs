{
 "cells": [
  {
   "cell_type": "markdown",
   "metadata": {},
   "source": [
    "# Vérifier et préparer votre environnement de projet"
   ]
  },
  {
   "cell_type": "markdown",
   "metadata": {},
   "source": [
    "## Vérifier votre environnement"
   ]
  },
  {
   "cell_type": "code",
   "execution_count": 1,
   "metadata": {},
   "outputs": [
    {
     "name": "stdout",
     "output_type": "stream",
     "text": [
      "pascalr@google.com\n"
     ]
    }
   ],
   "source": [
    "!gcloud config get-value core/account"
   ]
  },
  {
   "cell_type": "code",
   "execution_count": 2,
   "metadata": {},
   "outputs": [
    {
     "name": "stdout",
     "output_type": "stream",
     "text": [
      "pascal-demo\n"
     ]
    }
   ],
   "source": [
    "!gcloud config get-value core/project"
   ]
  },
  {
   "cell_type": "markdown",
   "metadata": {},
   "source": [
    "## Vérifier que les APIs sont activées"
   ]
  },
  {
   "cell_type": "code",
   "execution_count": 3,
   "metadata": {},
   "outputs": [
    {
     "name": "stdout",
     "output_type": "stream",
     "text": [
      "NAME                         TITLE\n",
      "speech.googleapis.com        Cloud Speech-to-Text API\n",
      "texttospeech.googleapis.com  Cloud Text-to-Speech API\n"
     ]
    }
   ],
   "source": [
    "!gcloud services list --enabled --filter speech"
   ]
  },
  {
   "cell_type": "markdown",
   "metadata": {},
   "source": [
    "## Vérifier que les API Speech-to-Text et Text-to-Speech sont bien activées"
   ]
  },
  {
   "cell_type": "code",
   "execution_count": 4,
   "metadata": {},
   "outputs": [
    {
     "name": "stdout",
     "output_type": "stream",
     "text": [
      "NAME                         TITLE\n",
      "speech.googleapis.com        Cloud Speech-to-Text API\n",
      "texttospeech.googleapis.com  Cloud Text-to-Speech API\n"
     ]
    }
   ],
   "source": [
    "!gcloud services list --enabled --filter=speech"
   ]
  },
  {
   "cell_type": "markdown",
   "metadata": {},
   "source": [
    "## Vérifier que l'API Translation est bien activée"
   ]
  },
  {
   "cell_type": "code",
   "execution_count": 5,
   "metadata": {},
   "outputs": [
    {
     "name": "stdout",
     "output_type": "stream",
     "text": [
      "NAME                      TITLE\n",
      "automl.googleapis.com     Cloud AutoML API\n",
      "translate.googleapis.com  Cloud Translation API\n"
     ]
    }
   ],
   "source": [
    "!gcloud services list --enabled --filter=translate"
   ]
  },
  {
   "cell_type": "markdown",
   "metadata": {},
   "source": [
    "## Activer les APIs éventuellement non activées\n",
    "Si certaines APIs ne sont pas encore activées, retournez sur l'interface web de la console GCP, cliquez sur __Navigation Menu__ (icône dite \"Burger menu\") > __APIs & Services__ > __Library__.\n",
    "\n",
    "Cherchez la ou les API(s) non encore activées et cliquez sur __Enable__."
   ]
  },
  {
   "cell_type": "markdown",
   "metadata": {},
   "source": [
    "## Déclarer votre clé d'API\n",
    "Retrouvez la valuer de votre clé d'API :\n",
    "- depuis l'interface graphique de la console GCP :\n",
    "cliquez sur __Navigation Menu__ (icône dite \"Burger menu\") > __APIs & Services__ > __Credentials__\n",
    "\n",
    "- depuis le fichier dans lequel vous l'avez enregistrée :\n",
    "Dans __Cloud Shell__ tapez la commende :\n",
    "\n",
    "```cat My-API-key.txt```\n",
    "\n",
    "Puis copiez-collez la valeur ci-dessous :"
   ]
  },
  {
   "cell_type": "code",
   "execution_count": null,
   "metadata": {},
   "outputs": [],
   "source": [
    "%env API_KEY <valeur>"
   ]
  },
  {
   "cell_type": "code",
   "execution_count": 3,
   "metadata": {},
   "outputs": [
    {
     "name": "stdout",
     "output_type": "stream",
     "text": [
      "env: GOOGLE_CLOUD_PROJECT=pascal-demo\n"
     ]
    }
   ],
   "source": [
    "PROJECT = !gcloud config get-value core/project\n",
    "%env GOOGLE_CLOUD_PROJECT {PROJECT[0]}"
   ]
  },
  {
   "cell_type": "code",
   "execution_count": null,
   "metadata": {},
   "outputs": [],
   "source": []
  },
  {
   "cell_type": "code",
   "execution_count": null,
   "metadata": {},
   "outputs": [],
   "source": [
    "!echo $GOOGLE_CLOUD_PROJECT"
   ]
  },
  {
   "cell_type": "markdown",
   "metadata": {},
   "source": [
    "# Transcrire un fichier audio vocal vers du texte avec Speech-to-Text API"
   ]
  },
  {
   "cell_type": "markdown",
   "metadata": {},
   "source": [
    "## Créer un service account et télécharger la clé"
   ]
  },
  {
   "cell_type": "code",
   "execution_count": 5,
   "metadata": {},
   "outputs": [
    {
     "name": "stdout",
     "output_type": "stream",
     "text": [
      "Created service account [my-lab-sa].\n"
     ]
    }
   ],
   "source": [
    "!gcloud iam service-accounts create my-lab-sa --display-name \"my lab service account\""
   ]
  },
  {
   "cell_type": "code",
   "execution_count": 7,
   "metadata": {},
   "outputs": [
    {
     "name": "stdout",
     "output_type": "stream",
     "text": [
      "created key [1fb39498cbfd0cca2662a6460a31a1509a776f78] of type [json] as [/home/jupyter/key.json] for [my-lab-sa@pascal-demo.iam.gserviceaccount.com]\n"
     ]
    }
   ],
   "source": [
    "!gcloud iam service-accounts keys create ~/key.json --iam-account my-lab-sa@${GOOGLE_CLOUD_PROJECT}.iam.gserviceaccount.com"
   ]
  },
  {
   "cell_type": "code",
   "execution_count": 8,
   "metadata": {},
   "outputs": [
    {
     "name": "stdout",
     "output_type": "stream",
     "text": [
      "env: GOOGLE_APPLICATION_CREDENTIALS=\"/home/jupyter/key.json\"\n"
     ]
    }
   ],
   "source": [
    "%env GOOGLE_APPLICATION_CREDENTIALS=\"/home/jupyter/key.json\""
   ]
  },
  {
   "cell_type": "markdown",
   "metadata": {},
   "source": [
    "## Utiliser la librairie client Python \n",
    "\n",
    "Vous allez lancer la transcription d'un [autre fichier sonore vocal](https://storage.googleapis.com/speech-language-samples/fr-sample.flac) (cliquez sur le lien pour l'écouter).\n",
    "\n",
    "### Vérifier d'abord que le module google-cloud-speech est bien installé :"
   ]
  },
  {
   "cell_type": "code",
   "execution_count": 10,
   "metadata": {},
   "outputs": [
    {
     "name": "stdout",
     "output_type": "stream",
     "text": [
      "google-cloud-speech==1.3.2\n",
      "\"/home/jupyter/key.json\"\n"
     ]
    }
   ],
   "source": [
    "!pip freeze | grep speech\n",
    "!echo $GOOGLE_APPLICATION_CREDENTIALS"
   ]
  },
  {
   "cell_type": "markdown",
   "metadata": {},
   "source": [
    "### Ensuite, préparer l'appel à l'API via le client Python :"
   ]
  },
  {
   "cell_type": "code",
   "execution_count": 34,
   "metadata": {},
   "outputs": [],
   "source": [
    "from google.cloud import speech\n",
    "\n",
    "#creds = service_account.Credentials.from_service_account_file(\"/home/jupyter/key.json\") \n",
    "client = speech.SpeechClient.from_service_account_json('/home/jupyter/key.json')\n",
    "\n",
    "gcs_uri = \"gs://speech-language-samples/fr-sample.flac\"\n",
    "\n",
    "audio = speech.types.RecognitionAudio(uri=gcs_uri)\n",
    "config = speech.types.RecognitionConfig(\n",
    "    encoding=speech.types.RecognitionConfig.AudioEncoding.FLAC,\n",
    "    sample_rate_hertz=44100,\n",
    "    language_code=\"fr\",\n",
    ")"
   ]
  },
  {
   "cell_type": "markdown",
   "metadata": {},
   "source": [
    "### Lancer l'opération en mode syncrhone et afficher la meilleure réponse :"
   ]
  },
  {
   "cell_type": "code",
   "execution_count": 35,
   "metadata": {},
   "outputs": [
    {
     "name": "stdout",
     "output_type": "stream",
     "text": [
      "Transcript: maître corbeau sur un arbre perché Tenait dans son bec un fromage\n",
      "Confidence: 0.9287356734275818\n"
     ]
    }
   ],
   "source": [
    "response = client.recognize(config=config, audio=audio)\n",
    "for result in response.results:\n",
    "    # The first alternative is the most likely one for this portion.\n",
    "    print(u\"Transcript: {}\".format(result.alternatives[0].transcript))\n",
    "    print(\"Confidence: {}\".format(result.alternatives[0].confidence))"
   ]
  },
  {
   "cell_type": "markdown",
   "metadata": {},
   "source": [
    "### Lancer l'opération en mode asyncrhone et afficher la meilleure réponse :"
   ]
  },
  {
   "cell_type": "code",
   "execution_count": 29,
   "metadata": {},
   "outputs": [
    {
     "name": "stdout",
     "output_type": "stream",
     "text": [
      "Waiting for operation to complete...\n"
     ]
    }
   ],
   "source": [
    "operation = client.long_running_recognize(\n",
    "    config=config, audio=audio\n",
    ")\n",
    "print(\"Waiting for operation to complete...\")\n",
    "response = operation.result(timeout=90)"
   ]
  },
  {
   "cell_type": "code",
   "execution_count": 30,
   "metadata": {},
   "outputs": [
    {
     "name": "stdout",
     "output_type": "stream",
     "text": [
      "Transcript: maître corbeau sur un arbre perché tenait en son bec un fromage\n",
      "Confidence: 0.9385557770729065\n"
     ]
    }
   ],
   "source": [
    "for result in response.results:\n",
    "    # The first alternative is the most likely one for this portion.\n",
    "    print(u\"Transcript: {}\".format(result.alternatives[0].transcript))\n",
    "    print(\"Confidence: {}\".format(result.alternatives[0].confidence))"
   ]
  },
  {
   "cell_type": "markdown",
   "metadata": {},
   "source": []
  }
 ],
 "metadata": {
  "environment": {
   "name": "common-cpu.m56",
   "type": "gcloud",
   "uri": "gcr.io/deeplearning-platform-release/base-cpu:m56"
  },
  "kernelspec": {
   "display_name": "Python 3",
   "language": "python",
   "name": "python3"
  },
  "language_info": {
   "codemirror_mode": {
    "name": "ipython",
    "version": 3
   },
   "file_extension": ".py",
   "mimetype": "text/x-python",
   "name": "python",
   "nbconvert_exporter": "python",
   "pygments_lexer": "ipython3",
   "version": "3.7.8"
  }
 },
 "nbformat": 4,
 "nbformat_minor": 4
}
