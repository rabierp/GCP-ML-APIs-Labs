{
 "cells": [
  {
   "cell_type": "markdown",
   "metadata": {},
   "source": [
    "# Transcrire un fichier audio vocal vers du texte avec Speech-to-Text API"
   ]
  },
  {
   "cell_type": "markdown",
   "metadata": {},
   "source": [
    "## Vérifier votre environnement"
   ]
  },
  {
   "cell_type": "code",
   "execution_count": 63,
   "metadata": {},
   "outputs": [
    {
     "name": "stdout",
     "output_type": "stream",
     "text": [
      "140464457075-compute@developer.gserviceaccount.com\n"
     ]
    }
   ],
   "source": [
    "!gcloud config get-value core/account"
   ]
  },
  {
   "cell_type": "code",
   "execution_count": 64,
   "metadata": {},
   "outputs": [
    {
     "name": "stdout",
     "output_type": "stream",
     "text": [
      "pascal-demo\n"
     ]
    }
   ],
   "source": [
    "!gcloud config get-value core/project"
   ]
  },
  {
   "cell_type": "markdown",
   "metadata": {},
   "source": [
    "## Vérifier que les APIs sont activées"
   ]
  },
  {
   "cell_type": "code",
   "execution_count": 51,
   "metadata": {},
   "outputs": [],
   "source": [
    "!gcloud services list --enabled --filter speech"
   ]
  },
  {
   "cell_type": "markdown",
   "metadata": {},
   "source": [
    "## Vérifier que les API Speech-to-Text et Text-to-Speech sont bien activées"
   ]
  },
  {
   "cell_type": "code",
   "execution_count": 56,
   "metadata": {},
   "outputs": [
    {
     "name": "stdout",
     "output_type": "stream",
     "text": [
      "NAME                         TITLE\n",
      "speech.googleapis.com        Cloud Speech-to-Text API\n",
      "texttospeech.googleapis.com  Cloud Text-to-Speech API\n"
     ]
    }
   ],
   "source": [
    "!gcloud services list --enabled --filter=speech"
   ]
  },
  {
   "cell_type": "markdown",
   "metadata": {},
   "source": [
    "## Vérifier que l'API Translation est bien activée"
   ]
  },
  {
   "cell_type": "code",
   "execution_count": 65,
   "metadata": {},
   "outputs": [
    {
     "name": "stdout",
     "output_type": "stream",
     "text": [
      "NAME                      TITLE\n",
      "translate.googleapis.com  Cloud Translation API\n"
     ]
    }
   ],
   "source": [
    "!gcloud services list --enabled --filter=translate"
   ]
  },
  {
   "cell_type": "markdown",
   "metadata": {},
   "source": [
    "## Activer les APIs éventuellement non activées\n",
    "Si certaines APIs ne sont pas encore activées, retournez sur l'interface web de la console GCP, cliquez sur __Navigation Menu__ (icône dite \"Burger menu\") > __APIs & Services__ > __Library__.\n",
    "\n",
    "Cherchez la ou les API(s) non encore activées et cliquez sur __Enable__."
   ]
  },
  {
   "cell_type": "markdown",
   "metadata": {},
   "source": [
    "## Déclarer votre clé d'API\n",
    "Retrouvez la valuer de votre clé d'API :\n",
    "- depuis l'interface graphique :\n",
    "- depuis le fichier dans lequel vous l'avez enregistrée :\n",
    "Dans __Cloud Shell__ tapez la commende :\n",
    "\n",
    "```cat My-API-key.txt```\n",
    "\n",
    "Puis copiez-collez la valeur ci-dessous :"
   ]
  },
  {
   "cell_type": "code",
   "execution_count": null,
   "metadata": {},
   "outputs": [],
   "source": [
    "%env API_KEY <valeur>"
   ]
  },
  {
   "cell_type": "code",
   "execution_count": 48,
   "metadata": {},
   "outputs": [
    {
     "name": "stdout",
     "output_type": "stream",
     "text": [
      "env: GOOGLE_CLOUD_PROJECT=pascal-demo\n"
     ]
    }
   ],
   "source": [
    "PROJECT = !gcloud config get-value core/project\n",
    "%env GOOGLE_CLOUD_PROJECT {PROJECT[0]}"
   ]
  },
  {
   "cell_type": "code",
   "execution_count": 39,
   "metadata": {},
   "outputs": [
    {
     "name": "stdout",
     "output_type": "stream",
     "text": [
      "env: GOOGLE_CLOUD_PROJECT=$PROJECT\n"
     ]
    }
   ],
   "source": []
  },
  {
   "cell_type": "code",
   "execution_count": 43,
   "metadata": {},
   "outputs": [
    {
     "name": "stdout",
     "output_type": "stream",
     "text": [
      "$PROJECT\n"
     ]
    }
   ],
   "source": [
    "!echo $GOOGLE_CLOUD_PROJECT"
   ]
  },
  {
   "cell_type": "code",
   "execution_count": null,
   "metadata": {},
   "outputs": [],
   "source": []
  }
 ],
 "metadata": {
  "environment": {
   "name": "common-cpu.m56",
   "type": "gcloud",
   "uri": "gcr.io/deeplearning-platform-release/base-cpu:m56"
  },
  "kernelspec": {
   "display_name": "Python 3",
   "language": "python",
   "name": "python3"
  },
  "language_info": {
   "codemirror_mode": {
    "name": "ipython",
    "version": 3
   },
   "file_extension": ".py",
   "mimetype": "text/x-python",
   "name": "python",
   "nbconvert_exporter": "python",
   "pygments_lexer": "ipython3",
   "version": "3.7.8"
  }
 },
 "nbformat": 4,
 "nbformat_minor": 4
}
