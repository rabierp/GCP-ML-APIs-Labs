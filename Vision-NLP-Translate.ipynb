{
  "nbformat": 4,
  "nbformat_minor": 0,
  "metadata": {
    "colab": {
      "name": "Vision-NLP-Translate.ipynb",
      "provenance": [],
      "collapsed_sections": [],
      "include_colab_link": true
    },
    "kernelspec": {
      "name": "python3",
      "display_name": "Python 3"
    }
  },
  "cells": [
    {
      "cell_type": "markdown",
      "metadata": {
        "id": "view-in-github",
        "colab_type": "text"
      },
      "source": [
        "<a href=\"https://colab.research.google.com/github/rabierp/GCP-ML-APIs-Labs/blob/main/Vision_NLP_Translate.ipynb\" target=\"_parent\"><img src=\"https://colab.research.google.com/assets/colab-badge.svg\" alt=\"Open In Colab\"/></a>"
      ]
    },
    {
      "cell_type": "markdown",
      "metadata": {
        "id": "YWkJXgbLDNhP"
      },
      "source": [
        "# Initialisation Projet"
      ]
    },
    {
      "cell_type": "code",
      "metadata": {
        "id": "pLy01Ek8XmqI"
      },
      "source": [
        "!gcloud auth login pascalr@google.com"
      ],
      "execution_count": null,
      "outputs": []
    },
    {
      "cell_type": "code",
      "metadata": {
        "id": "atRQlxKta93e"
      },
      "source": [
        "!gcloud config get-value core/account"
      ],
      "execution_count": null,
      "outputs": []
    },
    {
      "cell_type": "code",
      "metadata": {
        "id": "LXRibKqXYHhO"
      },
      "source": [
        "!gcloud config set project pascal-demo"
      ],
      "execution_count": null,
      "outputs": []
    },
    {
      "cell_type": "code",
      "metadata": {
        "id": "l2Cuq2wdYgcW"
      },
      "source": [
        "!gcloud services list --enabled --filter=vision"
      ],
      "execution_count": null,
      "outputs": []
    },
    {
      "cell_type": "code",
      "metadata": {
        "id": "am8mqnQfYlF0"
      },
      "source": [
        "!gcloud services list --enabled --filter=language"
      ],
      "execution_count": null,
      "outputs": []
    },
    {
      "cell_type": "code",
      "metadata": {
        "id": "pBVM-ONCYq8C"
      },
      "source": [
        "!gcloud services list --enabled --filter=translate"
      ],
      "execution_count": null,
      "outputs": []
    },
    {
      "cell_type": "code",
      "metadata": {
        "id": "h7vUDDSpY8qF"
      },
      "source": [
        "!gcloud iam service-accounts create my-lab-sa --display-name \"my lab service account\""
      ],
      "execution_count": null,
      "outputs": []
    },
    {
      "cell_type": "code",
      "metadata": {
        "id": "PEkByReUZffh"
      },
      "source": [
        "PROJECT = !gcloud config get-value core/project\n",
        "%env GOOGLE_CLOUD_PROJECT {PROJECT[0]}"
      ],
      "execution_count": null,
      "outputs": []
    },
    {
      "cell_type": "code",
      "metadata": {
        "id": "Cndqh0M-ZPBI"
      },
      "source": [
        "!gcloud iam service-accounts keys create key.json --iam-account my-lab-sa@${GOOGLE_CLOUD_PROJECT}.iam.gserviceaccount.com"
      ],
      "execution_count": null,
      "outputs": []
    },
    {
      "cell_type": "code",
      "metadata": {
        "id": "1bw8b-gHFlIC"
      },
      "source": [
        "%%bash\n",
        "pwd\n",
        "ls"
      ],
      "execution_count": null,
      "outputs": []
    },
    {
      "cell_type": "code",
      "metadata": {
        "id": "DklQuX62ZShC"
      },
      "source": [
        "%env GOOGLE_APPLICATION_CREDENTIALS \"key.json\""
      ],
      "execution_count": null,
      "outputs": []
    },
    {
      "cell_type": "markdown",
      "metadata": {
        "id": "84yy3oZYDYRT"
      },
      "source": [
        "# Détection de \"Point de repère\" par appel de l'API Vision avec _curl_\n",
        "\n",
        "La détection de point de repère (\"_LANDMARK DETECTION_\") dans une image est une des fonctionnalités de l'API Cloud Vision.\n",
        "\n",
        "Dans cette section, vous allez analyser [cette image](https://storage.googleapis.com/cloud-vision-codelab/eiffel_tower.jpg), préalablement chargée pour vous dans un _bucket_ **Google Cloud Storage** (vous pouvez cliquer sur le lien pour visualiser l'image)."
      ]
    },
    {
      "cell_type": "markdown",
      "metadata": {
        "id": "SN7v8J7Q_e6o"
      },
      "source": [
        "## Préparation du corps de la requête API"
      ]
    },
    {
      "cell_type": "markdown",
      "metadata": {
        "id": "MFRi5HkVyKS3"
      },
      "source": [
        "Vous allez d'abord construire la requete HTTP pour appeler l'API Vision, puis envoyer cette requête avec la commande en ligne curl (commande shell Linux / Unix).\n",
        "\n",
        "Ecrivez le corps de votre requete en JSON dans le fichier request.json :"
      ]
    },
    {
      "cell_type": "code",
      "metadata": {
        "id": "AWAhw3woyESX"
      },
      "source": [
        "%%bash\n",
        "cat <<EOF > request.json\n",
        "{\n",
        "  \"requests\": [\n",
        "    {\n",
        "      \"image\": {\n",
        "        \"source\": {\n",
        "              \"gcsImageUri\": \"gs://cloud-vision-codelab/eiffel-tower.jpg\"\n",
        "          }\n",
        "      },\n",
        "      \"features\": [\n",
        "        {\n",
        "          \"maxResults\": 10,\n",
        "          \"type\": \"LANDMARK_DETECTION\"\n",
        "        },\n",
        "      ]\n",
        "    }\n",
        "  ]\n",
        "}\n",
        "EOF"
      ],
      "execution_count": null,
      "outputs": []
    },
    {
      "cell_type": "markdown",
      "metadata": {
        "id": "BnUzLLlz_SXb"
      },
      "source": [
        "Vérifiez le contenu du fichier 'request.json' :"
      ]
    },
    {
      "cell_type": "code",
      "metadata": {
        "id": "70IoAvnl-oKD"
      },
      "source": [
        "!cat request.json"
      ],
      "execution_count": null,
      "outputs": []
    },
    {
      "cell_type": "markdown",
      "metadata": {
        "id": "G5YD-1kt_rR6"
      },
      "source": [
        "## Exécution de l'appel API avec la commande _curl_\n",
        "\n",
        "La commande _curl_ est une commande en ligne (CLI) disponible depuis le shell d'un système Linux / Uni, voire Windows si les outils adéquats ont été préalablement installés."
      ]
    },
    {
      "cell_type": "code",
      "metadata": {
        "id": "AI5JlLTjCzab"
      },
      "source": [
        "!pwd\n",
        "!curl -X POST \\\n",
        "-H \"Authorization: Bearer \"$(gcloud auth application-default print-access-token) \\\n",
        "-H \"Content-Type: application/json; charset=utf-8\" \\\n",
        "-d @request.json \\\n",
        "https://vision.googleapis.com/v1/images:annotate"
      ],
      "execution_count": null,
      "outputs": []
    },
    {
      "cell_type": "markdown",
      "metadata": {
        "id": "hXGfDrEMw9a_"
      },
      "source": [
        "# Appel de l'API Vision avec le _client API_ Python"
      ]
    },
    {
      "cell_type": "code",
      "metadata": {
        "id": "lF9_2tpdZkEx"
      },
      "source": [
        "!pip install google-cloud-vision"
      ],
      "execution_count": null,
      "outputs": []
    },
    {
      "cell_type": "code",
      "metadata": {
        "id": "9C173V0HE3cz"
      },
      "source": [
        "!python3 -c \"import google.cloud.vision\""
      ],
      "execution_count": null,
      "outputs": []
    },
    {
      "cell_type": "code",
      "metadata": {
        "id": "u6Y_RtJXsRji"
      },
      "source": [
        ""
      ],
      "execution_count": null,
      "outputs": []
    },
    {
      "cell_type": "markdown",
      "metadata": {
        "id": "g3NiyVhfx014"
      },
      "source": [
        "# Appel de l'API Natural Language"
      ]
    },
    {
      "cell_type": "markdown",
      "metadata": {
        "id": "0-qtyfMdD5Vi"
      },
      "source": [
        "# Appel API Translation"
      ]
    },
    {
      "cell_type": "code",
      "metadata": {
        "id": "BxNfN2B-ZwBN"
      },
      "source": [
        "!pip install google-cloud-translate"
      ],
      "execution_count": null,
      "outputs": []
    },
    {
      "cell_type": "code",
      "metadata": {
        "id": "AaJ7FT_tasOt"
      },
      "source": [
        ""
      ],
      "execution_count": null,
      "outputs": []
    },
    {
      "cell_type": "code",
      "metadata": {
        "id": "JNvcjUrF-mP4"
      },
      "source": [
        ""
      ],
      "execution_count": null,
      "outputs": []
    }
  ]
}
