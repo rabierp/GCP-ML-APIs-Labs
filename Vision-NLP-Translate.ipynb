{
 "cells": [
  {
   "cell_type": "markdown",
   "metadata": {
    "colab_type": "text",
    "id": "view-in-github"
   },
   "source": [
    "<a href=\"https://colab.research.google.com/github/rabierp/GCP-ML-APIs-Labs/blob/main/Vision_NLP_Translate.ipynb\" target=\"_parent\"><img src=\"https://colab.research.google.com/assets/colab-badge.svg\" alt=\"Open In Colab\"/></a>"
   ]
  },
  {
   "cell_type": "markdown",
   "metadata": {
    "id": "YWkJXgbLDNhP"
   },
   "source": [
    "# Initialisation de votre environnment Projet"
   ]
  },
  {
   "cell_type": "markdown",
   "metadata": {},
   "source": [
    "## Vérifier votre environnement"
   ]
  },
  {
   "cell_type": "markdown",
   "metadata": {},
   "source": [
    "Vérifiez le compte (l'identité) utilisée par la VM qui exécute ce Notebook IPython (la commande ci-dessous doit renvoyer un compte de service de type _Compute Engine_) : "
   ]
  },
  {
   "cell_type": "code",
   "execution_count": null,
   "metadata": {
    "id": "atRQlxKta93e"
   },
   "outputs": [],
   "source": [
    "!gcloud config get-value core/account"
   ]
  },
  {
   "cell_type": "markdown",
   "metadata": {},
   "source": [
    "Vérifiez que vous êtes dans le bon projet GCP (la commande ci-dessous doit renvoyer le nom de projet temporaire créé par Qwiklabs) :"
   ]
  },
  {
   "cell_type": "code",
   "execution_count": null,
   "metadata": {
    "id": "LXRibKqXYHhO"
   },
   "outputs": [],
   "source": [
    "!gcloud config get-value core/project"
   ]
  },
  {
   "cell_type": "markdown",
   "metadata": {},
   "source": [
    "Assignez l'identifiant de votre projet GCP à la variable d'environnment $GOOGLE_CLOUD_PROJECT :"
   ]
  },
  {
   "cell_type": "code",
   "execution_count": null,
   "metadata": {
    "id": "PEkByReUZffh"
   },
   "outputs": [],
   "source": [
    "PROJECT = !gcloud config get-value core/project\n",
    "%env GOOGLE_CLOUD_PROJECT {PROJECT[0]}"
   ]
  },
  {
   "cell_type": "markdown",
   "metadata": {},
   "source": [
    "## Vérifier que les APIs Vision et Natural-Language sont bien activées"
   ]
  },
  {
   "cell_type": "code",
   "execution_count": null,
   "metadata": {
    "id": "l2Cuq2wdYgcW"
   },
   "outputs": [],
   "source": [
    "!gcloud services list --enabled --filter=vision"
   ]
  },
  {
   "cell_type": "code",
   "execution_count": null,
   "metadata": {
    "id": "am8mqnQfYlF0"
   },
   "outputs": [],
   "source": [
    "!gcloud services list --enabled --filter=language"
   ]
  },
  {
   "cell_type": "code",
   "execution_count": null,
   "metadata": {
    "id": "pBVM-ONCYq8C"
   },
   "outputs": [],
   "source": [
    "!gcloud services list --enabled --filter=translate"
   ]
  },
  {
   "cell_type": "markdown",
   "metadata": {},
   "source": [
    "## Activer les APIs éventuellement non activées\n",
    "Si certaines APIs ne sont pas encore activées, retournez sur l'interface web de la console GCP, cliquez sur __Navigation Menu__ (icône dite \"Burger menu\") > __APIs & Services__ > __Library__.\n",
    "\n",
    "Cherchez la ou les API(s) non encore activées et cliquez sur __Enable__."
   ]
  },
  {
   "cell_type": "markdown",
   "metadata": {},
   "source": [
    "## Créer votre compte de service pour appeler les APIs"
   ]
  },
  {
   "cell_type": "markdown",
   "metadata": {},
   "source": [
    "Utilisez la commande _gcloud_ pour créer le compte de service que vous allez utiliser dans la suite de ce lab pour appeler les APIs :"
   ]
  },
  {
   "cell_type": "code",
   "execution_count": null,
   "metadata": {
    "id": "h7vUDDSpY8qF"
   },
   "outputs": [],
   "source": [
    "!gcloud iam service-accounts create my-lab-sa --display-name \"my lab service account\""
   ]
  },
  {
   "cell_type": "markdown",
   "metadata": {},
   "source": [
    "Utilisez la commande _gcloud_ pour télécharger en local la clé d'authentification du compte de service :"
   ]
  },
  {
   "cell_type": "code",
   "execution_count": null,
   "metadata": {
    "id": "Cndqh0M-ZPBI"
   },
   "outputs": [],
   "source": [
    "!gcloud iam service-accounts keys create key.json --iam-account my-lab-sa@${GOOGLE_CLOUD_PROJECT}.iam.gserviceaccount.com"
   ]
  },
  {
   "cell_type": "markdown",
   "metadata": {},
   "source": [
    "Créez une variable qui contient le nom complet (chemin inclus) du fichier téléchargé :"
   ]
  },
  {
   "cell_type": "code",
   "execution_count": null,
   "metadata": {},
   "outputs": [],
   "source": [
    "path = !pwd\n",
    "keyfilename = path[0] + \"/key.json\""
   ]
  },
  {
   "cell_type": "markdown",
   "metadata": {},
   "source": [
    "Et enregistrez le nom complet de ce fichier dans la variable d'environnement $GOOGLE_APPLICATION_CREDENTIALS :"
   ]
  },
  {
   "cell_type": "code",
   "execution_count": null,
   "metadata": {
    "id": "DklQuX62ZShC"
   },
   "outputs": [],
   "source": [
    "%env GOOGLE_APPLICATION_CREDENTIALS {keyfilename}"
   ]
  },
  {
   "cell_type": "markdown",
   "metadata": {},
   "source": [
    "**Vous êtes maintenant prêt à appeler les APIs de Machine Learning de GCP !!!**"
   ]
  },
  {
   "cell_type": "markdown",
   "metadata": {
    "id": "84yy3oZYDYRT"
   },
   "source": [
    "# Détection de \"Point de repère\" par appel de l'API Vision avec _curl_\n",
    "\n",
    "La détection de point de repère (\"_LANDMARK DETECTION_\") dans une image est une des fonctionnalités de l'API Cloud Vision.\n",
    "\n",
    "Dans cette section, vous allez analyser [cette image](https://storage.googleapis.com/cloud-vision-codelab/eiffel_tower.jpg), préalablement chargée pour vous dans un _bucket_ **Google Cloud Storage** (vous pouvez cliquer sur le lien pour visualiser l'image)."
   ]
  },
  {
   "cell_type": "markdown",
   "metadata": {
    "id": "SN7v8J7Q_e6o"
   },
   "source": [
    "## Préparation du corps de la requête API"
   ]
  },
  {
   "cell_type": "markdown",
   "metadata": {
    "id": "MFRi5HkVyKS3"
   },
   "source": [
    "Vous allez d'abord construire la requete HTTP pour appeler l'API Vision, puis envoyer cette requête avec la commande en ligne curl (commande shell Linux / Unix).\n",
    "\n",
    "Ecrivez le corps de votre requete en JSON dans le fichier request.json :"
   ]
  },
  {
   "cell_type": "code",
   "execution_count": null,
   "metadata": {
    "id": "AWAhw3woyESX"
   },
   "outputs": [],
   "source": [
    "%%bash\n",
    "cat <<EOF > request.json\n",
    "{\n",
    "  \"requests\": [\n",
    "    {\n",
    "      \"image\": {\n",
    "        \"source\": {\n",
    "              \"gcsImageUri\": \"gs://cloud-vision-codelab/eiffel_tower.jpg\"\n",
    "          }\n",
    "      },\n",
    "      \"features\": [\n",
    "        {\n",
    "          \"maxResults\": 10,\n",
    "          \"type\": \"LANDMARK_DETECTION\"\n",
    "        },\n",
    "      ]\n",
    "    }\n",
    "  ]\n",
    "}\n",
    "EOF"
   ]
  },
  {
   "cell_type": "markdown",
   "metadata": {
    "id": "BnUzLLlz_SXb"
   },
   "source": [
    "Vérifiez le contenu du fichier 'request.json' :"
   ]
  },
  {
   "cell_type": "code",
   "execution_count": null,
   "metadata": {
    "id": "70IoAvnl-oKD"
   },
   "outputs": [],
   "source": [
    "!cat request.json"
   ]
  },
  {
   "cell_type": "markdown",
   "metadata": {
    "id": "G5YD-1kt_rR6"
   },
   "source": [
    "## Exécution de l'appel API avec la commande _curl_\n",
    "\n",
    "La commande _curl_ est une commande en ligne (CLI) disponible depuis le shell d'un système Linux / Uni, voire Windows si les outils adéquats ont été préalablement installés."
   ]
  },
  {
   "cell_type": "code",
   "execution_count": null,
   "metadata": {
    "id": "AI5JlLTjCzab"
   },
   "outputs": [],
   "source": [
    "!curl -X POST \\\n",
    "-H \"Authorization: Bearer \"$(gcloud auth application-default print-access-token) \\\n",
    "-H \"Content-Type: application/json; charset=utf-8\" \\\n",
    "-d @request.json \\\n",
    "https://vision.googleapis.com/v1/images:annotate"
   ]
  },
  {
   "cell_type": "markdown",
   "metadata": {},
   "source": [
    "Le résultat affiché ci-dessus doit être le corps de la réponse à la requête HTTPS, sous forme d'objet _json_.\n",
    "\n",
    "Vous êtes invités à le regarder attentivement pour en comprendre la structure."
   ]
  },
  {
   "cell_type": "markdown",
   "metadata": {
    "id": "hXGfDrEMw9a_"
   },
   "source": [
    "# Détection de libellés sur une image avec l'API Cloud Vision"
   ]
  },
  {
   "cell_type": "markdown",
   "metadata": {},
   "source": [
    "A partir de cette section, vous allez utiliser la bibliothèque cliente Google Vision pour Python, méthode la plus naturelle dans ce langage (ou _\"pythonic\"_ pour les geeks).\n",
    "\n",
    "Dans cette section, vous allez utiliser la fonctionnalité de détection de libellés (\"_LABEL_DETECTION_\") de l'API Cloud Vision, sur l'[image suivante](https://storage.googleapis.com/ml-api-codelab/birds.jpg), préalablement chargée pour vous dans un bucket **Google Cloud Storage** (vous pouvez cliquer sur le lien pour visualiser l'image).\n",
    "\n",
    "Vérifiez que la bibliothèque client Vision pour Python est bien installée dans votre environnement :"
   ]
  },
  {
   "cell_type": "code",
   "execution_count": null,
   "metadata": {},
   "outputs": [],
   "source": [
    "!pip list | grep \"google-cloud-vision\""
   ]
  },
  {
   "cell_type": "markdown",
   "metadata": {},
   "source": [
    "Si la commande précédente renvoie une réponse vide, installez la bibliothèque client Cloud Vision pour Python :"
   ]
  },
  {
   "cell_type": "code",
   "execution_count": null,
   "metadata": {},
   "outputs": [],
   "source": [
    "!pip install google-cloud-vision"
   ]
  },
  {
   "cell_type": "markdown",
   "metadata": {},
   "source": [
    "Ensuite, vous pouvez importer le package dans votre code :"
   ]
  },
  {
   "cell_type": "code",
   "execution_count": null,
   "metadata": {},
   "outputs": [],
   "source": [
    "from google.cloud import vision"
   ]
  },
  {
   "cell_type": "markdown",
   "metadata": {},
   "source": [
    "Puis initialiser le client :"
   ]
  },
  {
   "cell_type": "code",
   "execution_count": null,
   "metadata": {},
   "outputs": [],
   "source": [
    "vision_client = vision.ImageAnnotatorClient()"
   ]
  },
  {
   "cell_type": "markdown",
   "metadata": {},
   "source": [
    "Déclarez l'image que vous souhaitez analyser (ou annoter) :"
   ]
  },
  {
   "cell_type": "code",
   "execution_count": null,
   "metadata": {},
   "outputs": [],
   "source": [
    "image_uri = 'gs://ml-api-codelab/birds.jpg'\n",
    "image = vision.types.Image()\n",
    "image.source.image_uri = image_uri"
   ]
  },
  {
   "cell_type": "markdown",
   "metadata": {},
   "source": [
    "Et enfin appeler l'API pour obtenir l'analyse de l'image :"
   ]
  },
  {
   "cell_type": "code",
   "execution_count": null,
   "metadata": {},
   "outputs": [],
   "source": [
    "response = vision_client.label_detection(image=image)"
   ]
  },
  {
   "cell_type": "markdown",
   "metadata": {},
   "source": [
    "Vous pouvez maintenant parcourir les libellés (_LABELS_) détectés par l'API, qui sont maintenants stockés dans le dictionnaire '_response_' :"
   ]
  },
  {
   "cell_type": "code",
   "execution_count": null,
   "metadata": {},
   "outputs": [],
   "source": [
    "print('Libellés détectés (et scores de confiance associés):')\n",
    "print('=' * 52)\n",
    "for label in response.label_annotations:\n",
    "    print(label.description, '(%.2f%%)' % (label.score*100.))"
   ]
  },
  {
   "cell_type": "markdown",
   "metadata": {},
   "source": [
    "La documentation de l'API Vision est [ici](https://cloud.google.com/vision/docs).\n",
    "\n",
    "Les guides pratiques [là](https://cloud.google.com/vision/docs/how-to) (utile pour avoir une compréhension globale de l'ensemble des fonctionnalités de l'API).\n",
    "\n",
    "La documentation de référence pour la version Python est à [cette adresse](https://googleapis.dev/python/vision/latest/index.html)."
   ]
  },
  {
   "cell_type": "markdown",
   "metadata": {},
   "source": [
    "# Détection de texte sur une image avec l'API Cloud Vision\n",
    "L'objectif de est de vous apprendre à utiliser la fonctionnalité de **reconnaissance optique des caractères (OCR)** de l'API Cloud Vision, ane l'appliquant à [cette image](https://storage.googleapis.com/pr-ext-shares/pancarte_Bien_Public.jpeg), préalablement chargée pour vous dans un bucket Google Cloud Storage (vous pouvez cliquer sur le lien pour visualiser l'image).\n",
    "\n",
    "Le module google.cloud.vision a déjà été importé dans la section précédente.\n",
    "\n",
    "Le client a déjà été initialisé.\n",
    "\n",
    "Vous pouvez donc dès à présent déclarer l'image à analyser, et appeler l'API :"
   ]
  },
  {
   "cell_type": "code",
   "execution_count": null,
   "metadata": {
    "id": "lF9_2tpdZkEx"
   },
   "outputs": [],
   "source": [
    "image_uri = 'gs://pr-ext-shares/pancarte_Bien_Public.jpeg'\n",
    "image = vision.types.Image()\n",
    "image.source.image_uri = image_uri\n",
    "\n",
    "response = vision_client.text_detection(image=image)"
   ]
  },
  {
   "cell_type": "markdown",
   "metadata": {},
   "source": [
    "La boucle suivante va parcourir les éléments de texte détectés dans l'image, et afficher leur position sur cette dernière :"
   ]
  },
  {
   "cell_type": "code",
   "execution_count": null,
   "metadata": {
    "id": "9C173V0HE3cz"
   },
   "outputs": [],
   "source": [
    "for text in response.text_annotations:\n",
    "    print('=' * 30)\n",
    "    print(text.description)\n",
    "    vertices = ['(%s,%s)' % (v.x, v.y) for v in text.bounding_poly.vertices]\n",
    "    print('bounds:', \",\".join(vertices))"
   ]
  },
  {
   "cell_type": "markdown",
   "metadata": {
    "id": "u6Y_RtJXsRji"
   },
   "source": [
    "*************************\n",
    "\n",
    "Afin de préparer la prochaine section, récupérez dans la variable '_chaine_' tout le texte identifié sur l'image, qui se trouve dans le 1er élément de la liste '_text_annotations_' : "
   ]
  },
  {
   "cell_type": "code",
   "execution_count": null,
   "metadata": {},
   "outputs": [],
   "source": [
    "chaine = response.text_annotations[0].description\n",
    "print(chaine)"
   ]
  },
  {
   "cell_type": "markdown",
   "metadata": {
    "id": "g3NiyVhfx014"
   },
   "source": [
    "# Utilisation de l'_API Natural Language_"
   ]
  },
  {
   "cell_type": "markdown",
   "metadata": {},
   "source": [
    "## Vérifiez votre environnement Python\n",
    "\n",
    "Vérifiez que la bibliothèque client _Natural Language_ pour Python est bien installée dans votre environnement :"
   ]
  },
  {
   "cell_type": "code",
   "execution_count": null,
   "metadata": {},
   "outputs": [],
   "source": [
    "!pip list | grep \"google-cloud-language\""
   ]
  },
  {
   "cell_type": "markdown",
   "metadata": {},
   "source": [
    "Si la commande précédente renvoie une réponse vide, installez le package python de la bibliothèque client :"
   ]
  },
  {
   "cell_type": "code",
   "execution_count": null,
   "metadata": {},
   "outputs": [],
   "source": [
    "!pip install google-cloud-language -U"
   ]
  },
  {
   "cell_type": "markdown",
   "metadata": {},
   "source": [
    "## Initialisez votre code\n",
    "\n",
    "Importez le module Python et initialisez le client :"
   ]
  },
  {
   "cell_type": "code",
   "execution_count": null,
   "metadata": {},
   "outputs": [],
   "source": [
    "from google.cloud import language_v1\n",
    "nlu_client = language.LanguageServiceClient()"
   ]
  },
  {
   "cell_type": "markdown",
   "metadata": {},
   "source": [
    "## Analyser les entités présentes dans le texte\n",
    "\n",
    "Déclarez le texte à analyser :"
   ]
  },
  {
   "cell_type": "code",
   "execution_count": null,
   "metadata": {},
   "outputs": [],
   "source": [
    "type_ = language_v1.types.Document.Type.PLAIN_TEXT\n",
    "langue = \"fr\"\n",
    "document = {\"content\": chaine, \"type\": type_, \"language\": langue}"
   ]
  },
  {
   "cell_type": "markdown",
   "metadata": {},
   "source": [
    "Appelez l'API :"
   ]
  },
  {
   "cell_type": "code",
   "execution_count": null,
   "metadata": {},
   "outputs": [],
   "source": [
    "response = nlu_client.analyze_entities(document=document)"
   ]
  },
  {
   "cell_type": "markdown",
   "metadata": {},
   "source": [
    "Affichage de la réponse :"
   ]
  },
  {
   "cell_type": "code",
   "execution_count": null,
   "metadata": {},
   "outputs": [],
   "source": [
    "for entity in response.entities:\n",
    "    print('=' * 20)\n",
    "    print('         name: {0}'.format(entity.name))\n",
    "    print('         type: {0}'.format(entity.type))\n",
    "    print('     metadata: {0}'.format(entity.metadata))\n",
    "    print('     salience: {0}'.format(entity.salience))"
   ]
  },
  {
   "cell_type": "markdown",
   "metadata": {},
   "source": [
    "## Analyse de la syntaxe du texte"
   ]
  },
  {
   "cell_type": "markdown",
   "metadata": {},
   "source": [
    "Appelez l'API :"
   ]
  },
  {
   "cell_type": "code",
   "execution_count": null,
   "metadata": {},
   "outputs": [],
   "source": [
    "response = nlu_client.analyze_syntax(document=document)"
   ]
  },
  {
   "cell_type": "markdown",
   "metadata": {},
   "source": [
    "Affichage de la réponse :"
   ]
  },
  {
   "cell_type": "code",
   "execution_count": null,
   "metadata": {},
   "outputs": [],
   "source": [
    "fmts = \"{:10}: {}\"\n",
    "print(fmts.format(\"sentences\", len(response.sentences)))\n",
    "print(fmts.format(\"tokens\", len(response.tokens)))\n",
    "for token in response.tokens:\n",
    "#    print(fmts.format(token.part_of_speech.tag, token.text.content))\n",
    "    tag_name = language_v1.enums.PartOfSpeech.Tag(token.part_of_speech.tag)\n",
    "    content = token.text.content\n",
    "    print(u'{!r}: {}'.format(tag_name, content))"
   ]
  },
  {
   "cell_type": "markdown",
   "metadata": {
    "id": "0-qtyfMdD5Vi"
   },
   "source": [
    "# Identification de texte sur une autre image et appel de l'_API Translation_"
   ]
  },
  {
   "cell_type": "markdown",
   "metadata": {},
   "source": [
    "## Appelez l'API Vision pour détecter le texte sur l'image"
   ]
  },
  {
   "cell_type": "markdown",
   "metadata": {},
   "source": [
    "Vous allez à nouveau utiliser la fonctionnalité de **reconnaissance optique des caractères (OCR)** de l'API Cloud Vision, en l'appliquant cette fois à [cette image](https://storage.googleapis.com/cloud-vision-codelab/otter_crossing.jpg), préalablement chargée pour vous dans un bucket Google Cloud Storage (vous pouvez cliquer sur le lien pour visualiser l'image).\n",
    "\n",
    "Le module google.cloud.vision a déjà été importé dans la section précédente.\n",
    "\n",
    "Le client a déjà été initialisé.\n",
    "\n",
    "Vous pouvez donc dès à présent compléter le code suivant pour déclarer l'image à analyser, et appeler l'API :"
   ]
  },
  {
   "cell_type": "code",
   "execution_count": null,
   "metadata": {},
   "outputs": [],
   "source": [
    "image_uri = 'XXXXXXXXXXXXXXXXXXXXX'\n",
    "image = vision.types.Image()\n",
    "image.source.image_uri = image_uri\n",
    "\n",
    "response = vision_client.<UTILISER_LA_BONNE_FONCTIONNALITE>(image=image)"
   ]
  },
  {
   "cell_type": "markdown",
   "metadata": {},
   "source": [
    "Puis, complétez le code suivant pour afficher les mots reconnus :"
   ]
  },
  {
   "cell_type": "code",
   "execution_count": null,
   "metadata": {},
   "outputs": [],
   "source": [
    "for text in response.<LA_BONNE_PROPRIETE>:\n",
    "    print('=' * 30)\n",
    "    print(text.<LA_BONNE_PROPRIETE>)\n",
    "    vertices = ['(%s,%s)' % (v.x, v.y) for v in text.bounding_poly.vertices]\n",
    "    print('bounds:', \",\".join(vertices))"
   ]
  },
  {
   "cell_type": "markdown",
   "metadata": {
    "id": "BxNfN2B-ZwBN"
   },
   "source": [
    "## Traduire le texte avec l'API Translation"
   ]
  },
  {
   "cell_type": "markdown",
   "metadata": {
    "id": "AaJ7FT_tasOt"
   },
   "source": [
    "Stocker le texte précédent dans une variable '_chaine_' :"
   ]
  },
  {
   "cell_type": "code",
   "execution_count": null,
   "metadata": {
    "id": "JNvcjUrF-mP4"
   },
   "outputs": [],
   "source": [
    "chaine = response.text_annotations[0].description\n",
    "print(chaine)"
   ]
  },
  {
   "cell_type": "markdown",
   "metadata": {},
   "source": [
    "Initialisez le client Python de l'API Translation :"
   ]
  },
  {
   "cell_type": "code",
   "execution_count": null,
   "metadata": {},
   "outputs": [],
   "source": [
    "from google.cloud import translate_v2 as translate\n",
    "\n",
    "translate_client = translate.Client()"
   ]
  },
  {
   "cell_type": "markdown",
   "metadata": {},
   "source": [
    "Préparez la requête / spécifiez la langue cible :"
   ]
  },
  {
   "cell_type": "code",
   "execution_count": null,
   "metadata": {},
   "outputs": [],
   "source": [
    "\"\"\"Translates text into the target language.\n",
    "\n",
    "Target must be an ISO 639-1 language code.\n",
    "See https://cloud.google.com/translate/docs/reference/rest/v3/SupportedLanguages\n",
    "\"\"\"\n",
    "target = \"fr\""
   ]
  },
  {
   "cell_type": "markdown",
   "metadata": {},
   "source": [
    "Exécutez l'appel API :"
   ]
  },
  {
   "cell_type": "code",
   "execution_count": null,
   "metadata": {},
   "outputs": [],
   "source": [
    "# Text can also be a sequence of strings, in which case this method\n",
    "# will return a sequence of results for each text.\n",
    "result = translate_client.translate(chaine, target_language=target)"
   ]
  },
  {
   "cell_type": "markdown",
   "metadata": {},
   "source": [
    "Affichez le résultat :"
   ]
  },
  {
   "cell_type": "code",
   "execution_count": null,
   "metadata": {},
   "outputs": [],
   "source": [
    "print(u\"Text: {}\".format(result[\"input\"]))\n",
    "print(u\"Translation: {}\".format(result[\"translatedText\"]))\n",
    "print(u\"Detected source language: {}\".format(result[\"detectedSourceLanguage\"]))"
   ]
  }
 ],
 "metadata": {
  "colab": {
   "collapsed_sections": [],
   "include_colab_link": true,
   "name": "Vision-NLP-Translate.ipynb",
   "provenance": []
  },
  "environment": {
   "name": "common-cpu.m58",
   "type": "gcloud",
   "uri": "gcr.io/deeplearning-platform-release/base-cpu:m58"
  },
  "kernelspec": {
   "display_name": "Python 3",
   "language": "python",
   "name": "python3"
  },
  "language_info": {
   "codemirror_mode": {
    "name": "ipython",
    "version": 3
   },
   "file_extension": ".py",
   "mimetype": "text/x-python",
   "name": "python",
   "nbconvert_exporter": "python",
   "pygments_lexer": "ipython3",
   "version": "3.7.8"
  }
 },
 "nbformat": 4,
 "nbformat_minor": 4
}
